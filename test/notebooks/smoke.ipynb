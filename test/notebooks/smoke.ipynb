{
 "cells": [
  {
   "cell_type": "code",
   "execution_count": 1,
   "metadata": {
    "collapsed": true
   },
   "outputs": [],
   "source": [
    "from __future__ import print_function"
   ]
  },
  {
   "cell_type": "code",
   "execution_count": 2,
   "metadata": {
    "collapsed": false
   },
   "outputs": [],
   "source": [
    "from httm.fits_utilities.raw_fits import raw_converter_from_fits"
   ]
  },
  {
   "cell_type": "code",
   "execution_count": 3,
   "metadata": {
    "collapsed": false
   },
   "outputs": [
    {
     "name": "stderr",
     "output_type": "stream",
     "text": [
      "No handlers could be found for logger \"httm.fits_utilities.header_tools\"\n"
     ]
    }
   ],
   "source": [
    "raw_data = raw_converter_from_fits('fits_data/raw_fits/single_ccd.fits')"
   ]
  },
  {
   "cell_type": "code",
   "execution_count": 4,
   "metadata": {
    "collapsed": true
   },
   "outputs": [],
   "source": [
    "from httm.fits_utilities.raw_fits import write_raw_converter_to_calibrated_fits"
   ]
  },
  {
   "cell_type": "code",
   "execution_count": 5,
   "metadata": {
    "collapsed": true
   },
   "outputs": [],
   "source": [
    "write_raw_converter_to_calibrated_fits(raw_data, \"raw_test.fits\")"
   ]
  },
  {
   "cell_type": "code",
   "execution_count": 6,
   "metadata": {
    "collapsed": true
   },
   "outputs": [],
   "source": [
    "write_raw_converter_to_calibrated_fits(raw_data, \"raw_test.fits\")"
   ]
  },
  {
   "cell_type": "code",
   "execution_count": 7,
   "metadata": {
    "collapsed": false
   },
   "outputs": [],
   "source": [
    "from httm.transformations.raw_converters_to_calibrated \\\n",
    "  import convert_adu_to_electrons, remove_baseline, remove_pattern_noise, remove_start_of_line_ringing, remove_undershoot, remove_smear"
   ]
  },
  {
   "cell_type": "code",
   "execution_count": 8,
   "metadata": {
    "collapsed": false
   },
   "outputs": [],
   "source": [
    "raw_slice_transformations = [\n",
    "    convert_adu_to_electrons,\n",
    "    remove_baseline,\n",
    "    # remove_pattern_noise, \n",
    "    remove_start_of_line_ringing, \n",
    "    remove_undershoot, \n",
    "    remove_smear,\n",
    "]"
   ]
  },
  {
   "cell_type": "code",
   "execution_count": 9,
   "metadata": {
    "collapsed": false
   },
   "outputs": [],
   "source": [
    "from functools import reduce\n",
    "\n",
    "assert isinstance(reduce(lambda x, f: f(x), raw_slice_transformations, raw_data), type(raw_data))"
   ]
  },
  {
   "cell_type": "code",
   "execution_count": 10,
   "metadata": {
    "collapsed": false
   },
   "outputs": [],
   "source": [
    "assert isinstance(reduce(lambda x, f: f(x), raw_slice_transformations, raw_data), type(raw_data))"
   ]
  },
  {
   "cell_type": "code",
   "execution_count": 11,
   "metadata": {
    "collapsed": false
   },
   "outputs": [],
   "source": [
    "from httm.fits_utilities.electron_flux_fits import electron_flux_converter_from_fits"
   ]
  },
  {
   "cell_type": "code",
   "execution_count": 12,
   "metadata": {
    "collapsed": false
   },
   "outputs": [],
   "source": [
    "electron_flux_data = electron_flux_converter_from_fits('fits_data/electron_flux_fits/small_simulated_data.fits')"
   ]
  },
  {
   "cell_type": "code",
   "execution_count": 13,
   "metadata": {
    "collapsed": false
   },
   "outputs": [],
   "source": [
    "from httm.transformations.electron_flux_converters_to_raw import convert_electrons_to_adu, simulate_undershoot, add_readout_noise, simulate_blooming, add_shot_noise, introduce_smear_rows, add_baseline"
   ]
  },
  {
   "cell_type": "code",
   "execution_count": 14,
   "metadata": {
    "collapsed": false
   },
   "outputs": [],
   "source": [
    "calibrated_slice_transformations = [introduce_smear_rows, add_shot_noise, simulate_blooming, add_readout_noise, simulate_undershoot, add_baseline, convert_electrons_to_adu]"
   ]
  },
  {
   "cell_type": "code",
   "execution_count": 15,
   "metadata": {
    "collapsed": false
   },
   "outputs": [],
   "source": [
    "assert isinstance(reduce(lambda x, f: f(x), calibrated_slice_transformations, electron_flux_data), type(electron_flux_data))"
   ]
  },
  {
   "cell_type": "code",
   "execution_count": 16,
   "metadata": {
    "collapsed": false
   },
   "outputs": [],
   "source": [
    "assert reduce(lambda x, f: f(x), calibrated_slice_transformations, electron_flux_data) is not None"
   ]
  },
  {
   "cell_type": "code",
   "execution_count": 17,
   "metadata": {
    "collapsed": false
   },
   "outputs": [],
   "source": [
    "from httm.data_structures.raw_converter import raw_converter_parameters\n",
    "from httm.data_structures.electron_flux_converter import electron_flux_converter_parameters\n",
    "from httm.resource_utilities import load_npz"
   ]
  },
  {
   "cell_type": "code",
   "execution_count": 18,
   "metadata": {
    "collapsed": false
   },
   "outputs": [],
   "source": [
    "assert load_npz(raw_converter_parameters['pattern_noise']['default']) is not None"
   ]
  },
  {
   "cell_type": "code",
   "execution_count": 19,
   "metadata": {
    "collapsed": false
   },
   "outputs": [],
   "source": [
    "assert load_npz(electron_flux_converter_parameters['pattern_noise']['default']) is not None"
   ]
  },
  {
   "cell_type": "code",
   "execution_count": 20,
   "metadata": {
    "collapsed": false
   },
   "outputs": [],
   "source": [
    "assert load_npz(electron_flux_converter_parameters['pattern_noise']['default']) is not None"
   ]
  }
 ],
 "metadata": {
  "kernelspec": {
   "display_name": "Python 2",
   "language": "python",
   "name": "python2"
  },
  "language_info": {
   "codemirror_mode": {
    "name": "ipython",
    "version": 2
   },
   "file_extension": ".py",
   "mimetype": "text/x-python",
   "name": "python",
   "nbconvert_exporter": "python",
   "pygments_lexer": "ipython2",
   "version": "2.7.12"
  }
 },
 "nbformat": 4,
 "nbformat_minor": 0
}
