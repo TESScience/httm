{
 "cells": [
  {
   "cell_type": "code",
   "execution_count": null,
   "metadata": {
    "collapsed": true
   },
   "outputs": [],
   "source": [
    "from __future__ import print_function"
   ]
  },
  {
   "cell_type": "code",
   "execution_count": null,
   "metadata": {
    "collapsed": true
   },
   "outputs": [],
   "source": [
    "import logging\n",
    "logging.basicConfig(\n",
    "    format=\"[%(asctime)s] %(levelname)s [%(name)s.%(funcName)s:%(lineno)d] %(message)s\",\n",
    "    datefmt=\"%H:%M:%S\",\n",
    ")"
   ]
  },
  {
   "cell_type": "code",
   "execution_count": null,
   "metadata": {
    "collapsed": false
   },
   "outputs": [],
   "source": [
    "from httm.fits_utilities.raw_fits import raw_converter_from_fits"
   ]
  },
  {
   "cell_type": "code",
   "execution_count": null,
   "metadata": {
    "collapsed": false
   },
   "outputs": [],
   "source": [
    "raw_data = raw_converter_from_fits('fits_data/raw_fits/single_ccd.fits')"
   ]
  },
  {
   "cell_type": "code",
   "execution_count": null,
   "metadata": {
    "collapsed": true
   },
   "outputs": [],
   "source": [
    "from httm.fits_utilities.raw_fits import write_raw_converter_to_calibrated_fits"
   ]
  },
  {
   "cell_type": "code",
   "execution_count": null,
   "metadata": {
    "collapsed": false
   },
   "outputs": [],
   "source": [
    "write_raw_converter_to_calibrated_fits(raw_data, \"raw_test.fits\")"
   ]
  },
  {
   "cell_type": "code",
   "execution_count": null,
   "metadata": {
    "collapsed": false
   },
   "outputs": [],
   "source": [
    "write_raw_converter_to_calibrated_fits(raw_data, \"raw_test.fits\")"
   ]
  },
  {
   "cell_type": "code",
   "execution_count": null,
   "metadata": {
    "collapsed": false
   },
   "outputs": [],
   "source": [
    "from httm.transformations.raw_converters_to_calibrated \\\n",
    "  import convert_adu_to_electrons, remove_baseline, remove_pattern_noise, remove_start_of_line_ringing, remove_undershoot, remove_smear"
   ]
  },
  {
   "cell_type": "code",
   "execution_count": null,
   "metadata": {
    "collapsed": false
   },
   "outputs": [],
   "source": [
    "raw_slice_transformations = [\n",
    "    convert_adu_to_electrons,\n",
    "    remove_baseline,\n",
    "    remove_start_of_line_ringing, \n",
    "    remove_undershoot, \n",
    "    remove_smear,\n",
    "]"
   ]
  },
  {
   "cell_type": "code",
   "execution_count": null,
   "metadata": {
    "collapsed": false
   },
   "outputs": [],
   "source": [
    "from functools import reduce\n",
    "\n",
    "assert isinstance(reduce(lambda x, f: f(x), raw_slice_transformations, raw_data), type(raw_data))"
   ]
  },
  {
   "cell_type": "code",
   "execution_count": null,
   "metadata": {
    "collapsed": false
   },
   "outputs": [],
   "source": [
    "assert isinstance(reduce(lambda x, f: f(x), raw_slice_transformations, raw_data), type(raw_data))"
   ]
  },
  {
   "cell_type": "code",
   "execution_count": null,
   "metadata": {
    "collapsed": false
   },
   "outputs": [],
   "source": [
    "from httm.fits_utilities.electron_flux_fits import electron_flux_converter_from_fits"
   ]
  },
  {
   "cell_type": "code",
   "execution_count": null,
   "metadata": {
    "collapsed": false
   },
   "outputs": [],
   "source": [
    "electron_flux_data = electron_flux_converter_from_fits('fits_data/electron_flux_fits/small_simulated_data.fits')"
   ]
  },
  {
   "cell_type": "code",
   "execution_count": null,
   "metadata": {
    "collapsed": false
   },
   "outputs": [],
   "source": [
    "from httm.transformations.electron_flux_converters_to_raw import convert_electrons_to_adu, simulate_undershoot, add_readout_noise, simulate_blooming, add_shot_noise, introduce_smear_rows, add_baseline"
   ]
  },
  {
   "cell_type": "code",
   "execution_count": null,
   "metadata": {
    "collapsed": false
   },
   "outputs": [],
   "source": [
    "calibrated_slice_transformations = [introduce_smear_rows, add_shot_noise, simulate_blooming, add_readout_noise, simulate_undershoot, add_baseline, convert_electrons_to_adu]"
   ]
  },
  {
   "cell_type": "code",
   "execution_count": null,
   "metadata": {
    "collapsed": false
   },
   "outputs": [],
   "source": [
    "assert isinstance(reduce(lambda x, f: f(x), calibrated_slice_transformations, electron_flux_data), type(electron_flux_data))"
   ]
  },
  {
   "cell_type": "code",
   "execution_count": null,
   "metadata": {
    "collapsed": false
   },
   "outputs": [],
   "source": [
    "assert reduce(lambda x, f: f(x), calibrated_slice_transformations, electron_flux_data) is not None"
   ]
  },
  {
   "cell_type": "code",
   "execution_count": null,
   "metadata": {
    "collapsed": false
   },
   "outputs": [],
   "source": [
    "from httm.resource_utilities import load_pattern_noise, get_file_resource\n",
    "from httm.fits_utilities import raw_converter_from_fits\n",
    "from httm.fits_utilities.raw_fits import raw_converter_from_hdulist\n",
    "from httm.data_structures.metadata import parameters\n",
    "import astropy"
   ]
  },
  {
   "cell_type": "code",
   "execution_count": null,
   "metadata": {
    "collapsed": false
   },
   "outputs": [],
   "source": [
    "loaded_data = load_pattern_noise(parameters['pattern_noise']['default'])"
   ]
  },
  {
   "cell_type": "code",
   "execution_count": null,
   "metadata": {
    "collapsed": false
   },
   "outputs": [],
   "source": [
    "loaded_data2 = load_pattern_noise(\"../../httm/data/simulated_pattern_noise.fits\")"
   ]
  },
  {
   "cell_type": "code",
   "execution_count": null,
   "metadata": {
    "collapsed": false
   },
   "outputs": [],
   "source": [
    "loaded_data3 = tuple(s.pixels for s in raw_converter_from_fits(get_file_resource(parameters['pattern_noise']['default'])).slices)"
   ]
  },
  {
   "cell_type": "code",
   "execution_count": null,
   "metadata": {
    "collapsed": false
   },
   "outputs": [],
   "source": [
    "hdulist = astropy.io.fits.open(get_file_resource(parameters['pattern_noise']['default']))\n",
    "raw_converter = raw_converter_from_hdulist(hdulist)\n",
    "loaded_data4 = tuple(s.pixels for s in raw_converter.slices)"
   ]
  },
  {
   "cell_type": "code",
   "execution_count": null,
   "metadata": {
    "collapsed": false
   },
   "outputs": [],
   "source": [
    "assert 'CCDNUM' in hdulist[0].header"
   ]
  },
  {
   "cell_type": "code",
   "execution_count": null,
   "metadata": {
    "collapsed": true
   },
   "outputs": [],
   "source": [
    "assert 'CCDNUM' in raw_converter.conversion_metadata.header"
   ]
  },
  {
   "cell_type": "code",
   "execution_count": null,
   "metadata": {
    "collapsed": true
   },
   "outputs": [],
   "source": [
    "assert raw_converter.conversion_metadata.header['CCDNUM'] is hdulist[0].header['CCDNUM']"
   ]
  },
  {
   "cell_type": "code",
   "execution_count": null,
   "metadata": {
    "collapsed": true
   },
   "outputs": [],
   "source": [
    "assert hdulist[0].header['CCDNUM'] is raw_converter.parameters.ccd_number"
   ]
  },
  {
   "cell_type": "code",
   "execution_count": null,
   "metadata": {
    "collapsed": false
   },
   "outputs": [],
   "source": [
    "hdulist2 = astropy.io.fits.open(get_file_resource('fits_data/raw_fits/spot50_raw.fits'))\n",
    "raw_converter2 = raw_converter_from_hdulist(hdulist2)"
   ]
  },
  {
   "cell_type": "code",
   "execution_count": null,
   "metadata": {
    "collapsed": true
   },
   "outputs": [],
   "source": [
    "assert 'CCDNUM' in hdulist2[0].header"
   ]
  },
  {
   "cell_type": "code",
   "execution_count": null,
   "metadata": {
    "collapsed": true
   },
   "outputs": [],
   "source": [
    "assert 'CCDNUM' in raw_converter2.conversion_metadata.header"
   ]
  },
  {
   "cell_type": "code",
   "execution_count": null,
   "metadata": {
    "collapsed": false
   },
   "outputs": [],
   "source": [
    "assert hdulist2[0].header['CCDNUM'] is not hdulist[0].header['CCDNUM']"
   ]
  },
  {
   "cell_type": "code",
   "execution_count": null,
   "metadata": {
    "collapsed": false
   },
   "outputs": [],
   "source": [
    "assert hdulist2[0].header['CCDNUM'] is raw_converter2.parameters.ccd_number"
   ]
  },
  {
   "cell_type": "code",
   "execution_count": null,
   "metadata": {
    "collapsed": true
   },
   "outputs": [],
   "source": [
    "assert all(map(lambda x,y: (x == y).all(), loaded_data, loaded_data2))"
   ]
  },
  {
   "cell_type": "code",
   "execution_count": null,
   "metadata": {
    "collapsed": true
   },
   "outputs": [],
   "source": [
    "assert all(map(lambda x,y: (x == y).all(), loaded_data, loaded_data3))"
   ]
  },
  {
   "cell_type": "code",
   "execution_count": null,
   "metadata": {
    "collapsed": true
   },
   "outputs": [],
   "source": [
    "assert all(map(lambda x,y: (x == y).all(), loaded_data, loaded_data4))"
   ]
  }
 ],
 "metadata": {
  "kernelspec": {
   "display_name": "Python 2",
   "language": "python",
   "name": "python2"
  },
  "language_info": {
   "codemirror_mode": {
    "name": "ipython",
    "version": 2
   },
   "file_extension": ".py",
   "mimetype": "text/x-python",
   "name": "python",
   "nbconvert_exporter": "python",
   "pygments_lexer": "ipython2",
   "version": "2.7.12"
  }
 },
 "nbformat": 4,
 "nbformat_minor": 0
}
