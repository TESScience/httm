{
 "cells": [
  {
   "cell_type": "code",
   "execution_count": null,
   "metadata": {
    "collapsed": true
   },
   "outputs": [],
   "source": [
    "from __future__ import print_function"
   ]
  },
  {
   "cell_type": "code",
   "execution_count": null,
   "metadata": {
    "collapsed": false
   },
   "outputs": [],
   "source": [
    "from httm.fits_utilities.raw_fits import raw_converter_from_fits"
   ]
  },
  {
   "cell_type": "code",
   "execution_count": null,
   "metadata": {
    "collapsed": false
   },
   "outputs": [],
   "source": [
    "raw_data = raw_converter_from_fits('fits_data/raw_fits/single_ccd.fits')"
   ]
  },
  {
   "cell_type": "code",
   "execution_count": null,
   "metadata": {
    "collapsed": true
   },
   "outputs": [],
   "source": [
    "from httm.fits_utilities.raw_fits import write_raw_converter_to_calibrated_fits"
   ]
  },
  {
   "cell_type": "code",
   "execution_count": null,
   "metadata": {
    "collapsed": true
   },
   "outputs": [],
   "source": [
    "write_raw_converter_to_calibrated_fits(raw_data, \"raw_test.fits\")"
   ]
  },
  {
   "cell_type": "code",
   "execution_count": null,
   "metadata": {
    "collapsed": true
   },
   "outputs": [],
   "source": [
    "write_raw_converter_to_calibrated_fits(raw_data, \"raw_test.fits\")"
   ]
  },
  {
   "cell_type": "code",
   "execution_count": null,
   "metadata": {
    "collapsed": false
   },
   "outputs": [],
   "source": [
    "from httm.transformations.raw_converters_to_calibrated \\\n",
    "  import convert_adu_to_electrons, remove_pattern_noise, remove_start_of_line_ringing, remove_undershoot, remove_smear"
   ]
  },
  {
   "cell_type": "code",
   "execution_count": null,
   "metadata": {
    "collapsed": false
   },
   "outputs": [],
   "source": [
    "raw_slice_transformations = [\n",
    "    convert_adu_to_electrons, \n",
    "    # remove_pattern_noise, \n",
    "    remove_start_of_line_ringing, \n",
    "    remove_undershoot, \n",
    "    remove_smear,\n",
    "]"
   ]
  },
  {
   "cell_type": "code",
   "execution_count": null,
   "metadata": {
    "collapsed": false
   },
   "outputs": [],
   "source": [
    "from functools import reduce\n",
    "reduce(lambda x,f: f(x), raw_slice_transformations, raw_data)\n",
    "print(\"OK\")"
   ]
  },
  {
   "cell_type": "code",
   "execution_count": null,
   "metadata": {
    "collapsed": false
   },
   "outputs": [],
   "source": [
    "reduce(lambda x,f: f(x), raw_slice_transformations, raw_data)\n",
    "print(\"OK\")"
   ]
  },
  {
   "cell_type": "code",
   "execution_count": null,
   "metadata": {
    "collapsed": false
   },
   "outputs": [],
   "source": [
    "from httm.fits_utilities.electron_flux_fits import electron_flux_converter_from_fits"
   ]
  },
  {
   "cell_type": "code",
   "execution_count": null,
   "metadata": {
    "collapsed": false
   },
   "outputs": [],
   "source": [
    "electron_flux_data = electron_flux_converter_from_fits('fits_data/electron_flux_fits/small_simulated_data.fits')"
   ]
  },
  {
   "cell_type": "code",
   "execution_count": null,
   "metadata": {
    "collapsed": false
   },
   "outputs": [],
   "source": [
    "from httm.transformations.electron_flux_converters_to_raw import convert_electrons_to_adu, simulate_undershoot, add_readout_noise, simulate_blooming, add_shot_noise, introduce_smear_rows, add_baseline "
   ]
  },
  {
   "cell_type": "code",
   "execution_count": null,
   "metadata": {
    "collapsed": false
   },
   "outputs": [],
   "source": [
    "calibrated_slice_transformations = [introduce_smear_rows, add_shot_noise, simulate_blooming, add_readout_noise, simulate_undershoot, add_baseline, convert_electrons_to_adu]"
   ]
  },
  {
   "cell_type": "code",
   "execution_count": null,
   "metadata": {
    "collapsed": false
   },
   "outputs": [],
   "source": [
    "reduce(lambda x,f: f(x), calibrated_slice_transformations, electron_flux_data)\n",
    "print(\"OK\")"
   ]
  },
  {
   "cell_type": "code",
   "execution_count": null,
   "metadata": {
    "collapsed": false
   },
   "outputs": [],
   "source": [
    "reduce(lambda x,f: f(x), calibrated_slice_transformations, electron_flux_data)\n",
    "print(\"OK\")"
   ]
  },
  {
   "cell_type": "code",
   "execution_count": null,
   "metadata": {
    "collapsed": false
   },
   "outputs": [],
   "source": [
    "from httm.data_structures.raw_converter import raw_converter_parameters\n",
    "from httm.data_structures.electron_flux_converter import electron_flux_converter_parameters\n",
    "from httm.resource_utilities import load_npz_resource"
   ]
  },
  {
   "cell_type": "code",
   "execution_count": null,
   "metadata": {
    "collapsed": false
   },
   "outputs": [],
   "source": [
    "load_npz_resource(raw_converter_parameters['pattern_noise']['default'], 'pattern_noise')\n",
    "print(\"OK\")"
   ]
  },
  {
   "cell_type": "code",
   "execution_count": null,
   "metadata": {
    "collapsed": false
   },
   "outputs": [],
   "source": [
    "load_npz_resource(electron_flux_converter_parameters['pattern_noise']['default'], 'pattern_noise')\n",
    "print(\"OK\")"
   ]
  },
  {
   "cell_type": "code",
   "execution_count": null,
   "metadata": {
    "collapsed": false
   },
   "outputs": [],
   "source": [
    "load_npz_resource(electron_flux_converter_parameters['pattern_noise']['default'], 'pattern_noise')\n",
    "print(\"OK\")"
   ]
  }
 ],
 "metadata": {
  "kernelspec": {
   "display_name": "Python 3",
   "language": "python",
   "name": "python3"
  },
  "language_info": {
   "codemirror_mode": {
    "name": "ipython",
    "version": 3
   },
   "file_extension": ".py",
   "mimetype": "text/x-python",
   "name": "python",
   "nbconvert_exporter": "python",
   "pygments_lexer": "ipython3",
   "version": "3.5.2"
  }
 },
 "nbformat": 4,
 "nbformat_minor": 1
}
