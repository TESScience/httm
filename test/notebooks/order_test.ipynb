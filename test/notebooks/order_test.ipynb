{
 "cells": [
  {
   "cell_type": "markdown",
   "metadata": {},
   "source": [
    "```\n",
    "Decimal pixel code srrrrtccc\n",
    "\n",
    "s slice 1-4\n",
    "rrrr row number 1-2078\n",
    "t is type\n",
    "    0 image\n",
    "    1 early dark\n",
    "    2 late dark\n",
    "ccc is column 1-512\n",
    "```"
   ]
  },
  {
   "cell_type": "code",
   "execution_count": 1,
   "metadata": {
    "collapsed": true
   },
   "outputs": [],
   "source": [
    "import numpy as np"
   ]
  },
  {
   "cell_type": "code",
   "execution_count": 2,
   "metadata": {
    "collapsed": true
   },
   "outputs": [],
   "source": [
    "def pix(n): \n",
    "    return np.array(range(1,n+1))"
   ]
  },
  {
   "cell_type": "code",
   "execution_count": 3,
   "metadata": {
    "collapsed": true
   },
   "outputs": [],
   "source": [
    "def flip(a):\n",
    "    return a[::-1]"
   ]
  },
  {
   "cell_type": "code",
   "execution_count": 4,
   "metadata": {
    "collapsed": true
   },
   "outputs": [],
   "source": [
    "slice_base = 100000000\n",
    "row_base = 10000\n",
    "image_type = 0\n",
    "early_type = 1000\n",
    "late_type = 2000"
   ]
  },
  {
   "cell_type": "code",
   "execution_count": 5,
   "metadata": {
    "collapsed": true
   },
   "outputs": [],
   "source": [
    "def row(n):\n",
    "    return row_base*n+np.concatenate((\n",
    "            1 * slice_base + early_type + pix(11),\n",
    "            2 * slice_base + early_type + flip(pix(11)),\n",
    "            3 * slice_base + early_type + pix(11),\n",
    "            4 * slice_base + early_type + flip(pix(11)),\n",
    "            1 * slice_base + pix(512),\n",
    "            2 * slice_base + flip(pix(512)),\n",
    "            3 * slice_base + pix(512),\n",
    "            4 * slice_base + flip(pix(512)),\n",
    "            1 * slice_base + late_type + pix(11),\n",
    "            2 * slice_base + late_type + flip(pix(11)),\n",
    "            3 * slice_base + late_type + pix(11),\n",
    "            4 * slice_base + late_type + flip(pix(11)),\n",
    "        ))"
   ]
  },
  {
   "cell_type": "code",
   "execution_count": 6,
   "metadata": {
    "collapsed": false
   },
   "outputs": [],
   "source": [
    "image=np.array(list(map(row,range(1,2079))))"
   ]
  },
  {
   "cell_type": "code",
   "execution_count": 7,
   "metadata": {
    "collapsed": true
   },
   "outputs": [],
   "source": [
    "from astropy.io import fits"
   ]
  },
  {
   "cell_type": "code",
   "execution_count": 8,
   "metadata": {
    "collapsed": false
   },
   "outputs": [
    {
     "name": "stderr",
     "output_type": "stream",
     "text": [
      "WARNING: AstropyDeprecationWarning: \"clobber\" was deprecated in version 1.3 and will be removed in a future version. Use argument \"overwrite\" instead. [astropy.utils.decorators]\n"
     ]
    }
   ],
   "source": [
    "fits.writeto('order_test.fits', image, None, clobber=True)"
   ]
  },
  {
   "cell_type": "code",
   "execution_count": 9,
   "metadata": {
    "collapsed": true
   },
   "outputs": [],
   "source": [
    "def slice_row(n):\n",
    "    return row_base*n+np.concatenate((\n",
    "            early_type + pix(11),\n",
    "            pix(512),\n",
    "            late_type + pix(11),\n",
    "            ))\n"
   ]
  },
  {
   "cell_type": "code",
   "execution_count": 10,
   "metadata": {
    "collapsed": false
   },
   "outputs": [],
   "source": [
    "def slice_pixels(n):\n",
    "    return n*slice_base+np.array(list(map(slice_row,range(1,2079))))"
   ]
  },
  {
   "cell_type": "code",
   "execution_count": 11,
   "metadata": {
    "collapsed": false
   },
   "outputs": [
    {
     "name": "stderr",
     "output_type": "stream",
     "text": [
      "No handlers could be found for logger \"httm.fits_utilities.header_settings\"\n"
     ]
    }
   ],
   "source": [
    "from httm.fits_utilities.raw_fits import raw_converter_from_fits\n",
    "\n",
    "raw_data = raw_converter_from_fits('order_test.fits')"
   ]
  },
  {
   "cell_type": "code",
   "execution_count": 12,
   "metadata": {
    "collapsed": false
   },
   "outputs": [],
   "source": [
    "for i in range(0,4):\n",
    "    assert np.array_equal(slice_pixels(i+1),raw_data.slices[i].pixels), \\\n",
    "           \"Slice from FITS does not match expected code\""
   ]
  },
  {
   "cell_type": "code",
   "execution_count": null,
   "metadata": {
    "collapsed": true
   },
   "outputs": [],
   "source": []
  }
 ],
 "metadata": {
  "kernelspec": {
   "display_name": "Python 2",
   "language": "python",
   "name": "python2"
  },
  "language_info": {
   "codemirror_mode": {
    "name": "ipython",
    "version": 2
   },
   "file_extension": ".py",
   "mimetype": "text/x-python",
   "name": "python",
   "nbconvert_exporter": "python",
   "pygments_lexer": "ipython2",
   "version": "2.7.12"
  }
 },
 "nbformat": 4,
 "nbformat_minor": 1
}
