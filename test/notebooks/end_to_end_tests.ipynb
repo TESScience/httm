{
 "cells": [
  {
   "cell_type": "code",
   "execution_count": 2,
   "metadata": {
    "collapsed": false
   },
   "outputs": [
    {
     "name": "stderr",
     "output_type": "stream",
     "text": [
      "Required FITS keyword not present: CAMNUM\n",
      "Required FITS keyword not present: CCDNUM\n",
      "Required FITS keyword not present: N_FRAMES\n"
     ]
    }
   ],
   "source": [
    "from httm.fits_utilities.raw_fits import raw_converter_from_fits\n",
    "\n",
    "raw_data = raw_converter_from_fits('fits_data/raw_fits/spot50_raw.fits')"
   ]
  },
  {
   "cell_type": "code",
   "execution_count": null,
   "metadata": {
    "collapsed": true
   },
   "outputs": [],
   "source": []
  }
 ],
 "metadata": {
  "kernelspec": {
   "display_name": "Python 3",
   "language": "python",
   "name": "python3"
  },
  "language_info": {
   "codemirror_mode": {
    "name": "ipython",
    "version": 3
   },
   "file_extension": ".py",
   "mimetype": "text/x-python",
   "name": "python",
   "nbconvert_exporter": "python",
   "pygments_lexer": "ipython3",
   "version": "3.5.2"
  }
 },
 "nbformat": 4,
 "nbformat_minor": 1
}
