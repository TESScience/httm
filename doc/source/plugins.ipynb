{
 "cells": [
  {
   "cell_type": "markdown",
   "metadata": {},
   "source": [
    "# Plugging In Your Own Transformations"
   ]
  },
  {
   "cell_type": "markdown",
   "metadata": {},
   "source": [
    "You may want to go beyond the built-in transformations provided in `httm.transformations`.\n",
    "\n",
    "This demonstrates how to plug your own transformations into the transformation pipeline provided by `httm`."
   ]
  },
  {
   "cell_type": "markdown",
   "metadata": {},
   "source": [
    "## Getting Started "
   ]
  },
  {
   "cell_type": "markdown",
   "metadata": {},
   "source": [
    "Assume you have a file `RAW.fits` containing an unmodified FITS full frame image."
   ]
  },
  {
   "cell_type": "markdown",
   "metadata": {},
   "source": [
    "To get started, we will first open this file and extract a `httm.data_structures.RawConverter` object."
   ]
  },
  {
   "cell_type": "markdown",
   "metadata": {},
   "source": [
    "This is done by calling `raw_transformation_from_file`."
   ]
  },
  {
   "cell_type": "code",
   "execution_count": 1,
   "metadata": {
    "collapsed": false
   },
   "outputs": [
    {
     "name": "stdout",
     "output_type": "stream",
     "text": [
      "image_and_smear dimentions (25, 12)\n",
      "Index 0\n",
      "left dark pixels dimensions (100, 11)\n",
      "right dark pixels columns (100, 11)\n"
     ]
    },
    {
     "ename": "ValueError",
     "evalue": "all the input array dimensions except for the concatenation axis must match exactly",
     "output_type": "error",
     "traceback": [
      "\u001b[0;31m---------------------------------------------------------------------------\u001b[0m",
      "\u001b[0;31mValueError\u001b[0m                                Traceback (most recent call last)",
      "\u001b[0;32m<ipython-input-1-5c768062b8da>\u001b[0m in \u001b[0;36m<module>\u001b[0;34m()\u001b[0m\n\u001b[1;32m      1\u001b[0m \u001b[0;32mfrom\u001b[0m \u001b[0mhttm\u001b[0m \u001b[0;32mimport\u001b[0m \u001b[0mraw_transformation_from_file\u001b[0m\u001b[0;34m\u001b[0m\u001b[0m\n\u001b[1;32m      2\u001b[0m \u001b[0;34m\u001b[0m\u001b[0m\n\u001b[0;32m----> 3\u001b[0;31m \u001b[0mraw_data\u001b[0m \u001b[0;34m=\u001b[0m \u001b[0mraw_transformation_from_file\u001b[0m\u001b[0;34m(\u001b[0m\u001b[0;34m'simulated_data.fits'\u001b[0m\u001b[0;34m)\u001b[0m\u001b[0;34m\u001b[0m\u001b[0m\n\u001b[0m",
      "\u001b[0;32m/Users/mpwd/Documents/TESS/httm/test/venv/lib/python2.7/site-packages/httm-0.1.0-py2.7.egg/httm/__init__.pyc\u001b[0m in \u001b[0;36mraw_transformation_from_file\u001b[0;34m(input_file, number_of_slices, video_scales, full_well, compression, undershoot, smear_ratio, clip_level_adu, pattern_noise)\u001b[0m\n\u001b[1;32m    173\u001b[0m                    \u001b[0mrange\u001b[0m\u001b[0;34m(\u001b[0m\u001b[0mnumber_of_slices\u001b[0m\u001b[0;34m)\u001b[0m\u001b[0;34m,\u001b[0m\u001b[0;34m\u001b[0m\u001b[0m\n\u001b[1;32m    174\u001b[0m                    \u001b[0msliced_left_dark_pixels\u001b[0m\u001b[0;34m,\u001b[0m\u001b[0;34m\u001b[0m\u001b[0m\n\u001b[0;32m--> 175\u001b[0;31m                    sliced_right_dark_pixels),\n\u001b[0m\u001b[1;32m    176\u001b[0m         fits_metadata=FITSMetaData(origin_file_name=origin_file_name,\n\u001b[1;32m    177\u001b[0m                                    header=header_data_unit_list[0].header),\n",
      "\u001b[0;32m/Users/mpwd/Documents/TESS/httm/test/venv/lib/python2.7/site-packages/httm-0.1.0-py2.7.egg/httm/__init__.pyc\u001b[0m in \u001b[0;36mmake_slice_from_raw_data\u001b[0;34m(image_and_smear_pixels, index, left_dark_pixel_columns, right_dark_pixel_columns)\u001b[0m\n\u001b[1;32m    137\u001b[0m     \u001b[0;32mprint\u001b[0m \u001b[0;34m\"right dark pixels columns\"\u001b[0m\u001b[0;34m,\u001b[0m \u001b[0mright_dark_pixel_columns\u001b[0m\u001b[0;34m.\u001b[0m\u001b[0mshape\u001b[0m\u001b[0;34m\u001b[0m\u001b[0m\n\u001b[1;32m    138\u001b[0m     return Slice(\n\u001b[0;32m--> 139\u001b[0;31m         \u001b[0mpixels\u001b[0m\u001b[0;34m=\u001b[0m\u001b[0mnumpy\u001b[0m\u001b[0;34m.\u001b[0m\u001b[0mvstack\u001b[0m\u001b[0;34m(\u001b[0m\u001b[0;34m[\u001b[0m\u001b[0mleft_dark_pixel_columns\u001b[0m\u001b[0;34m,\u001b[0m \u001b[0mimage_and_smear_pixels\u001b[0m\u001b[0;34m,\u001b[0m \u001b[0mright_dark_pixel_columns\u001b[0m\u001b[0;34m]\u001b[0m\u001b[0;34m)\u001b[0m\u001b[0;34m,\u001b[0m\u001b[0;34m\u001b[0m\u001b[0m\n\u001b[0m\u001b[1;32m    140\u001b[0m         \u001b[0mindex\u001b[0m\u001b[0;34m=\u001b[0m\u001b[0mindex\u001b[0m\u001b[0;34m,\u001b[0m\u001b[0;34m\u001b[0m\u001b[0m\n\u001b[1;32m    141\u001b[0m         units='hdu')\n",
      "\u001b[0;32m/Users/mpwd/Documents/TESS/httm/test/venv/lib/python2.7/site-packages/numpy-1.11.2-py2.7-macosx-10.10-x86_64.egg/numpy/core/shape_base.pyc\u001b[0m in \u001b[0;36mvstack\u001b[0;34m(tup)\u001b[0m\n\u001b[1;32m    228\u001b[0m \u001b[0;34m\u001b[0m\u001b[0m\n\u001b[1;32m    229\u001b[0m     \"\"\"\n\u001b[0;32m--> 230\u001b[0;31m     \u001b[0;32mreturn\u001b[0m \u001b[0m_nx\u001b[0m\u001b[0;34m.\u001b[0m\u001b[0mconcatenate\u001b[0m\u001b[0;34m(\u001b[0m\u001b[0;34m[\u001b[0m\u001b[0matleast_2d\u001b[0m\u001b[0;34m(\u001b[0m\u001b[0m_m\u001b[0m\u001b[0;34m)\u001b[0m \u001b[0;32mfor\u001b[0m \u001b[0m_m\u001b[0m \u001b[0;32min\u001b[0m \u001b[0mtup\u001b[0m\u001b[0;34m]\u001b[0m\u001b[0;34m,\u001b[0m \u001b[0;36m0\u001b[0m\u001b[0;34m)\u001b[0m\u001b[0;34m\u001b[0m\u001b[0m\n\u001b[0m\u001b[1;32m    231\u001b[0m \u001b[0;34m\u001b[0m\u001b[0m\n\u001b[1;32m    232\u001b[0m \u001b[0;32mdef\u001b[0m \u001b[0mhstack\u001b[0m\u001b[0;34m(\u001b[0m\u001b[0mtup\u001b[0m\u001b[0;34m)\u001b[0m\u001b[0;34m:\u001b[0m\u001b[0;34m\u001b[0m\u001b[0m\n",
      "\u001b[0;31mValueError\u001b[0m: all the input array dimensions except for the concatenation axis must match exactly"
     ]
    }
   ],
   "source": [
    "from httm import raw_transformation_from_file\n",
    "\n",
    "raw_data = raw_transformation_from_file('simulated_data.fits')"
   ]
  },
  {
   "cell_type": "code",
   "execution_count": 2,
   "metadata": {
    "collapsed": false
   },
   "outputs": [
    {
     "name": "stdout",
     "output_type": "stream",
     "text": [
      "Makefile             requirements.txt     test.fits\r\n",
      "\u001b[35mplugins.ipynb\u001b[m\u001b[m@       simulated_data.fits  \u001b[34mvenv\u001b[m\u001b[m/\r\n"
     ]
    }
   ],
   "source": [
    "ls"
   ]
  },
  {
   "cell_type": "code",
   "execution_count": null,
   "metadata": {
    "collapsed": true
   },
   "outputs": [],
   "source": []
  }
 ],
 "metadata": {
  "kernelspec": {
   "display_name": "Python 2",
   "language": "python",
   "name": "python2"
  },
  "language_info": {
   "codemirror_mode": {
    "name": "ipython",
    "version": 2
   },
   "file_extension": ".py",
   "mimetype": "text/x-python",
   "name": "python",
   "nbconvert_exporter": "python",
   "pygments_lexer": "ipython2",
   "version": "2.7.12"
  }
 },
 "nbformat": 4,
 "nbformat_minor": 1
}
